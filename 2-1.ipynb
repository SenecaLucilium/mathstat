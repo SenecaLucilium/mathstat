{
 "cells": [
  {
   "cell_type": "code",
   "execution_count": 129,
   "id": "3d982576-7a65-41fc-b095-f8bf18c63a2c",
   "metadata": {
    "tags": []
   },
   "outputs": [],
   "source": [
    "import matplotlib.pyplot as plt\n",
    "import statsmodels.api as sm\n",
    "from scipy import stats\n",
    "import numpy as np"
   ]
  },
  {
   "cell_type": "code",
   "execution_count": 130,
   "id": "da5d0053-b5cc-45dd-bcad-3414f335cc8c",
   "metadata": {
    "tags": []
   },
   "outputs": [],
   "source": [
    "N = 50\n",
    "coeff = [2, 3, -2, 1, 1, -1]\n",
    "alpha = 0.05\n",
    "\n",
    "sample = stats.uniform.rvs (size = N * 5) * 2 - 1\n",
    "sample = sample.reshape (N, 5)\n",
    "etta = np.zeros (N)\n",
    "\n",
    "for i in range (N):\n",
    "    etta [i] = np.random.normal (coeff[0] + coeff[1:] @ sample[i].T, 1.5)"
   ]
  },
  {
   "cell_type": "markdown",
   "id": "51731078-d08d-47ea-a0b4-1292df567af5",
   "metadata": {
    "tags": []
   },
   "source": [
    "### Вспомогательные функции"
   ]
  },
  {
   "cell_type": "code",
   "execution_count": 131,
   "id": "4c773a3b-088d-40c1-b553-4c13863a3eba",
   "metadata": {
    "tags": []
   },
   "outputs": [],
   "source": [
    "def getTSS (y):\n",
    "    return sum ([ (y_i - np.mean(y))**2 for y_i in y])\n",
    "\n",
    "def getRegression (psi, Y):\n",
    "    F = psi.T @ psi\n",
    "    F_inverse = np.linalg.inv (F)\n",
    "    \n",
    "    betta = (F_inverse @ psi.T) @ Y\n",
    "    \n",
    "    e = Y - (psi @ betta)\n",
    "    RSS = e.T @ e\n",
    "    TSS = getTSS (Y)\n",
    "    R = (TSS - RSS) / TSS\n",
    "    \n",
    "    return betta, RSS, TSS, R, e"
   ]
  },
  {
   "cell_type": "markdown",
   "id": "4f380184-15e9-4393-b7ef-133a1881e9d3",
   "metadata": {},
   "source": [
    "### a) Проверить переменные кси на мультиколлинеарность"
   ]
  },
  {
   "cell_type": "code",
   "execution_count": 132,
   "id": "8a112d08-ceec-49be-a998-a5dfcd6f29ea",
   "metadata": {
    "tags": []
   },
   "outputs": [
    {
     "name": "stdout",
     "output_type": "stream",
     "text": [
      "Для кси 0 R^2 = 0.017587152933845687\n",
      "Не выбрасываем.\n",
      "Для кси 1 R^2 = 0.006167110646810398\n",
      "Не выбрасываем.\n",
      "Для кси 2 R^2 = 0.016313949626571633\n",
      "Не выбрасываем.\n",
      "Для кси 3 R^2 = 0.006809910502129443\n",
      "Не выбрасываем.\n",
      "Для кси 4 R^2 = 0.01627998940436859\n",
      "Не выбрасываем.\n"
     ]
    }
   ],
   "source": [
    "for i in range (5):\n",
    "    psi_xi = np.copy (sample)\n",
    "    for j in range (N):\n",
    "        psi_xi[j][i] = 1\n",
    "    \n",
    "    regression_xi = getRegression (psi_xi, sample.T[i])\n",
    "    R = regression_xi [3]\n",
    "    \n",
    "    print (\"Для кси {i} R^2 = {R}\".format (i = i, R = R))\n",
    "    if (R < 0.7):\n",
    "        print (\"Не выбрасываем.\")\n",
    "    else:\n",
    "        print (\"Выбрасываем\")"
   ]
  },
  {
   "cell_type": "markdown",
   "id": "87024acb-ef36-4ee4-aa23-0b035e622e71",
   "metadata": {},
   "source": [
    "### b) Определить уравнение линейной регрессии и проверить значимость коэффициентов"
   ]
  },
  {
   "cell_type": "code",
   "execution_count": 133,
   "id": "d949c321-e6bd-4958-b27b-37cf4369706f",
   "metadata": {
    "tags": []
   },
   "outputs": [
    {
     "name": "stdout",
     "output_type": "stream",
     "text": [
      "Уравнение линейной регрессии: [ 1.95061455  2.95002048 -1.54122213  0.96691799  0.1789411  -0.92927573]\n"
     ]
    }
   ],
   "source": [
    "# Добавляем к уравнению константу\n",
    "tmp_sample = np.copy (sample)\n",
    "psi = np.zeros ((N, 6))\n",
    "\n",
    "for i in range (N):\n",
    "    psi [i] = np.insert (tmp_sample[i], 0, 1)\n",
    "\n",
    "regression = getRegression (psi, etta)\n",
    "\n",
    "print (\"Уравнение линейной регрессии: {betta}\".format(betta = regression[0]))"
   ]
  },
  {
   "cell_type": "code",
   "execution_count": 134,
   "id": "7f8a6a82-6315-4798-9e59-267191ac2597",
   "metadata": {
    "tags": []
   },
   "outputs": [
    {
     "name": "stdout",
     "output_type": "stream",
     "text": [
      "Для коэффициента 0 p-value = 1.0011591555780797e-10\n",
      "Значим.\n",
      "Для коэффициента 1 p-value = 1.3945373744661538e-09\n",
      "Значим.\n",
      "Для коэффициента 2 p-value = 0.00015528659240660048\n",
      "Значим.\n",
      "Для коэффициента 3 p-value = 0.019078771306177078\n",
      "Значим.\n",
      "Для коэффициента 4 p-value = 0.6200962116955391\n",
      "Не значим.\n",
      "Для коэффициента 5 p-value = 0.011438430772191532\n",
      "Значим.\n"
     ]
    }
   ],
   "source": [
    "F_inverse = np.linalg.inv (psi.T @ psi)\n",
    "RSS = regression [1]\n",
    "\n",
    "betta_p_value = np.zeros (6)\n",
    "\n",
    "for i in range (6):\n",
    "    delta_up = regression[0][i] * np.sqrt (N - 6)\n",
    "    delta_down = np.sqrt (RSS * F_inverse[i][i])\n",
    "    \n",
    "    delta = delta_up / delta_down\n",
    "    \n",
    "    p_value = 2 * (1 - stats.t.cdf (np.abs(delta), N - 6))\n",
    "    betta_p_value [i] = p_value\n",
    "    print (\"Для коэффициента {i} p-value = {p_value}\".format (i = i, p_value = p_value))\n",
    "    if (p_value > alpha):\n",
    "        print (\"Не значим.\")\n",
    "    else:\n",
    "        print (\"Значим.\")"
   ]
  },
  {
   "cell_type": "markdown",
   "id": "04ac55c7-4c72-4bea-9845-5e868613f5aa",
   "metadata": {},
   "source": [
    "### с) Определить коэффициент детерминации и проверить его значимость"
   ]
  },
  {
   "cell_type": "code",
   "execution_count": 135,
   "id": "93bbf79f-7e43-4e9a-ad80-ac7eb4dd0009",
   "metadata": {
    "tags": []
   },
   "outputs": [
    {
     "name": "stdout",
     "output_type": "stream",
     "text": [
      "Коэффициент детерминации: 0.6693966601241005\n",
      "p-value коэффициента детерминации: 1.2680196892489448e-09\n",
      "Регрессия значима.\n"
     ]
    }
   ],
   "source": [
    "R = regression [3]\n",
    "print (\"Коэффициент детерминации:\", R)\n",
    "\n",
    "delta = (R / (1 - R)) * (N - 6) / 5\n",
    "p_value = 1 - stats.f.cdf (np.abs (delta), 5, N - 6)\n",
    "\n",
    "print (\"p-value коэффициента детерминации:\", p_value)\n",
    "\n",
    "if (p_value > alpha):\n",
    "    print (\"Регрессия не значима.\")\n",
    "else:\n",
    "    print (\"Регрессия значима.\")"
   ]
  },
  {
   "cell_type": "markdown",
   "id": "bdef6ed1-93a6-4e4b-939c-d1f727bc31b2",
   "metadata": {
    "tags": []
   },
   "source": [
    "### d) Найти значение в точке xk = 0 и построить 95% доверительный интервал"
   ]
  },
  {
   "cell_type": "code",
   "execution_count": 136,
   "id": "c81add10-9834-4390-ad03-d83a5c591058",
   "metadata": {
    "tags": []
   },
   "outputs": [
    {
     "name": "stdout",
     "output_type": "stream",
     "text": [
      "Значение в точке xk = 0: 1.9506145467551188\n",
      "Доверительный интервал: [-1.2503773170244714, 5.1516064105347095]\n"
     ]
    }
   ],
   "source": [
    "betta = regression [0]\n",
    "\n",
    "x_0 = np.zeros (5)\n",
    "psi_x0 = np.insert (x_0, 0, 1)\n",
    "\n",
    "etta_0 = np.random.normal (coeff[0] + coeff[1:] @ x_0.T, 1.5)\n",
    "y_0 = betta[0] + betta[1:] @ x_0.T\n",
    "\n",
    "print (\"Значение в точке xk = 0:\", y_0)\n",
    "\n",
    "delta = np.sqrt ( (RSS * (1 + (psi_x0 @ F_inverse) @ psi_x0.T)) / (N - 6) )\n",
    "t = stats.t.ppf (1.95 / 2, N - 6)\n",
    "print (\"Доверительный интервал: [{left}, {right}]\".format (left = y_0 - t * delta, right = y_0 + t * delta))"
   ]
  },
  {
   "cell_type": "markdown",
   "id": "31437a63-976f-49bc-8d47-d5a2164e5ab2",
   "metadata": {},
   "source": [
    "### e) Проверить независимость ошибок измерения"
   ]
  },
  {
   "cell_type": "code",
   "execution_count": 137,
   "id": "6c0fe784-1f88-4b92-b301-0fc07cf93fd8",
   "metadata": {
    "tags": []
   },
   "outputs": [
    {
     "name": "stdout",
     "output_type": "stream",
     "text": [
      "p-value: 0.6900345164260671\n",
      "Нет оснований отвергнуть гипотезу о независимости ошибок измерения.\n"
     ]
    }
   ],
   "source": [
    "e = regression [4]\n",
    "J = 0\n",
    "\n",
    "for i in range (N):\n",
    "    for j in range (i + 1, N):\n",
    "        if (e[i] > e[j]):\n",
    "            J += 1\n",
    "\n",
    "delta = (J - N * (N - 1) / 4) / np.sqrt (N ** 3 / 36)\n",
    "p_value = 2 * (1 - stats.norm.cdf (np.abs (delta)))\n",
    "\n",
    "print (\"p-value:\", p_value)\n",
    "if (p_value < alpha):\n",
    "    print (\"Отвергаем гипотезу о независимости ошибок измерения.\")\n",
    "else:\n",
    "    print (\"Нет оснований отвергнуть гипотезу о независимости ошибок измерения.\")"
   ]
  },
  {
   "cell_type": "markdown",
   "id": "f97b82ba-2db9-4620-aff3-3a433a6811f5",
   "metadata": {
    "tags": []
   },
   "source": [
    "### f) Проверить нормальность распределения ошибок"
   ]
  },
  {
   "cell_type": "code",
   "execution_count": null,
   "id": "f5563e43-8cdf-49e6-916c-d630d436575c",
   "metadata": {},
   "outputs": [],
   "source": []
  },
  {
   "cell_type": "markdown",
   "id": "e31aab82-5cb5-4a95-a6f9-885136b424ad",
   "metadata": {},
   "source": [
    "### h) Кросс-проверка регрессии"
   ]
  },
  {
   "cell_type": "code",
   "execution_count": 138,
   "id": "7208c3a5-43bc-4939-a677-c555bc8d46b9",
   "metadata": {
    "tags": []
   },
   "outputs": [
    {
     "name": "stdout",
     "output_type": "stream",
     "text": [
      "Кросс-проверка - R^2: 0.9937253735384026\n",
      "Модель нормально предсказывает.\n"
     ]
    }
   ],
   "source": [
    "TSS = regression [2]\n",
    "CVSS = 0\n",
    "\n",
    "for i in range (N):\n",
    "    etta_cv = np.delete (etta, i, axis = 0)\n",
    "    \n",
    "    psi_cv = np.empty ([N - 1, 6])\n",
    "    tmp = np.delete (sample, i, axis = 0)\n",
    "    for i in range (N - 1):\n",
    "        psi_cv [i] = np.insert (tmp [i], 0, 1)\n",
    "    \n",
    "    F_cv = psi_cv.T @ psi_cv\n",
    "    F_cv_inverse = np.linalg.inv (F_cv)\n",
    "    betta_cv = (F_cv_inverse @ psi_cv.T) @ etta_cv.T\n",
    "    \n",
    "    CVSS += (etta [i] - (betta_cv[0] + betta_cv[1:] @ sample[i]))**2\n",
    "\n",
    "R_cv = (TSS - CVSS) / TSS\n",
    "print (\"Кросс-проверка - R^2:\", R_cv)\n",
    "\n",
    "if (R_cv < 0.7):\n",
    "    print (\"Модель плохо предсказывает.\")\n",
    "else:\n",
    "    print (\"Модель нормально предсказывает.\")"
   ]
  },
  {
   "cell_type": "markdown",
   "id": "c849e881-3380-46a8-a469-f0065c03e4ca",
   "metadata": {},
   "source": [
    "### i) Проверить адекватность регрессии"
   ]
  },
  {
   "cell_type": "code",
   "execution_count": 139,
   "id": "065a5598-f69b-411f-b806-f2be82614fd7",
   "metadata": {
    "tags": []
   },
   "outputs": [
    {
     "name": "stdout",
     "output_type": "stream",
     "text": [
      "0.3219316848238831\n",
      "Модель в адеквате.\n"
     ]
    }
   ],
   "source": [
    "x = sample [0]\n",
    "y = np.zeros (5)\n",
    "\n",
    "for i in range (5):\n",
    "    y [i] = np.random.normal (coeff [0] + coeff [1:] @ x.T, 1.5)\n",
    "\n",
    "sigma = (1/4) * sum ( (y_i - np.mean (y))**2 for y_i in y)\n",
    "delta = (RSS / (N - 6)) * sigma\n",
    "\n",
    "p_value = 1 - stats.f.cdf (np.abs (delta), 4, 5)\n",
    "print (p_value)\n",
    "\n",
    "if (p_value < 0.05):\n",
    "    print (\"Модель в неадеквате.\")\n",
    "else:\n",
    "    print (\"Модель в адеквате.\")"
   ]
  },
  {
   "cell_type": "markdown",
   "id": "3b948bb6-5f94-4840-a515-4b99bc573516",
   "metadata": {},
   "source": [
    "### j) Удалить малозначащую переменную и повторить пункты b и c, сделать сравнение"
   ]
  },
  {
   "cell_type": "code",
   "execution_count": 143,
   "id": "5fb196b1-b438-4591-8a75-a2ee04bf0073",
   "metadata": {
    "tags": []
   },
   "outputs": [
    {
     "name": "stdout",
     "output_type": "stream",
     "text": [
      "Самая малозначимая переменная: 2\n",
      "Коэффициенты новой регрессии: [ 1.909435    2.89675041 -1.59215914  0.22488975 -0.86455958]\n"
     ]
    }
   ],
   "source": [
    "print (\"Самая малозначимая переменная:\", np.argmax (betta_p_value) - 1)\n",
    "\n",
    "psi_deleted = np.delete (psi, np.argmax (betta_p_value), axis = 1)\n",
    "regression_deleted = getRegression (psi_deleted, etta)\n",
    "\n",
    "print (\"Коэффициенты новой регрессии:\", regression_deleted[0])"
   ]
  },
  {
   "cell_type": "code",
   "execution_count": 144,
   "id": "d269ef23-17ff-49fc-98f8-0873c8c5d806",
   "metadata": {
    "tags": []
   },
   "outputs": [
    {
     "name": "stdout",
     "output_type": "stream",
     "text": [
      "Для коэффициента 0 p-value = 5.703189032146838e-10\n",
      "Значим.\n",
      "Для коэффициента 1 p-value = 6.730840773627733e-09\n",
      "Значим.\n",
      "Для коэффициента 2 p-value = 0.0001901473402956544\n",
      "Значим.\n",
      "Для коэффициента 3 p-value = 0.553810704292744\n",
      "Не значим.\n",
      "Для коэффициента 4 p-value = 0.023876779486845523\n",
      "Значим.\n"
     ]
    }
   ],
   "source": [
    "F_deleted = psi_deleted.T @ psi_deleted\n",
    "F_inverse_deleted = np.linalg.inv (F_deleted)\n",
    "for i in range (5):\n",
    "    delta_up = regression_deleted[0][i] * np.sqrt (N - 5)\n",
    "    delta_down = np.sqrt (regression_deleted[1] * F_inverse_deleted[i][i])\n",
    "    \n",
    "    delta = delta_up / delta_down\n",
    "    \n",
    "    p_value = 2 * (1 - stats.t.cdf (np.abs(delta), N - 5))\n",
    "    betta_p_value [i] = p_value\n",
    "    print (\"Для коэффициента {i} p-value = {p_value}\".format (i = i, p_value = p_value))\n",
    "    if (p_value > alpha):\n",
    "        print (\"Не значим.\")\n",
    "    else:\n",
    "        print (\"Значим.\")\n"
   ]
  },
  {
   "cell_type": "code",
   "execution_count": 146,
   "id": "996b98bb-7f62-4385-ba88-1a1dea597cfa",
   "metadata": {
    "tags": []
   },
   "outputs": [
    {
     "name": "stdout",
     "output_type": "stream",
     "text": [
      "Коэффициент детерминации: 0.6248968734804499\n",
      "p-value коэффициента детерминации: 3.946576621061126e-09\n",
      "Регрессия значима.\n"
     ]
    }
   ],
   "source": [
    "R_deleted = regression_deleted [3]\n",
    "print (\"Коэффициент детерминации:\", R)\n",
    "\n",
    "delta = (R_deleted / (1 - R_deleted)) * (N - 5) / 4\n",
    "p_value = 1 - stats.f.cdf (np.abs (delta), 4, N - 5)\n",
    "\n",
    "print (\"p-value коэффициента детерминации:\", p_value)\n",
    "\n",
    "if (p_value > alpha):\n",
    "    print (\"Регрессия не значима.\")\n",
    "else:\n",
    "    print (\"Регрессия значима.\")"
   ]
  },
  {
   "cell_type": "code",
   "execution_count": 149,
   "id": "181cc42d-f3ee-434e-aab5-c9f74cddc3d8",
   "metadata": {
    "tags": []
   },
   "outputs": [
    {
     "name": "stdout",
     "output_type": "stream",
     "text": [
      "8.509037922443952e-05\n"
     ]
    }
   ],
   "source": [
    "RSS_deleted = regression_deleted [1]\n",
    "delta_regression = (RSS_deleted - RSS) * (N - 6) / RSS\n",
    "\n",
    "p_value = 1 - stats.f.cdf (np.abs (delta), 1, N - 6)\n",
    "print (p_value)"
   ]
  },
  {
   "cell_type": "code",
   "execution_count": null,
   "id": "ff0e509a-ecbc-4982-829f-b8c33fb11b8d",
   "metadata": {},
   "outputs": [],
   "source": []
  }
 ],
 "metadata": {
  "kernelspec": {
   "display_name": "Python 3 (ipykernel)",
   "language": "python",
   "name": "python3"
  },
  "language_info": {
   "codemirror_mode": {
    "name": "ipython",
    "version": 3
   },
   "file_extension": ".py",
   "mimetype": "text/x-python",
   "name": "python",
   "nbconvert_exporter": "python",
   "pygments_lexer": "ipython3",
   "version": "3.11.2"
  }
 },
 "nbformat": 4,
 "nbformat_minor": 5
}
