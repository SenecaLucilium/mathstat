{
 "cells": [
  {
   "cell_type": "code",
   "execution_count": 1,
   "id": "52d68639-ce86-4686-8a98-4a8dc726858a",
   "metadata": {},
   "outputs": [],
   "source": [
    "import matplotlib.pyplot as plt\n",
    "import numpy as np\n",
    "from scipy import integrate\n",
    "from scipy.special import gamma, gammainc\n",
    "from scipy import stats"
   ]
  },
  {
   "cell_type": "code",
   "execution_count": 9,
   "id": "b0fab970-b3eb-4078-977b-fe0ed81984ec",
   "metadata": {
    "tags": []
   },
   "outputs": [],
   "source": [
    "Y = np.arange (10)\n",
    "X = [5, 8, 6, 12, 14, 18, 11, 6, 13, 7]\n",
    "n = 100"
   ]
  },
  {
   "cell_type": "markdown",
   "id": "4d769009-1c70-4d80-a7af-056303b2bcc6",
   "metadata": {},
   "source": [
    "# а) Подсчет Колмогорова"
   ]
  },
  {
   "cell_type": "code",
   "execution_count": 10,
   "id": "ba1e27d1-2616-49b2-8bfe-2123ee0350aa",
   "metadata": {
    "tags": []
   },
   "outputs": [],
   "source": [
    "X_sample = []\n",
    "for i in range (len(X)):\n",
    "    for j in range (X[i]):\n",
    "        X_sample.append (i)"
   ]
  },
  {
   "cell_type": "code",
   "execution_count": 15,
   "id": "56f0c791-f7c6-4caf-b7a5-8e4ac024aefb",
   "metadata": {
    "tags": []
   },
   "outputs": [
    {
     "name": "stdout",
     "output_type": "stream",
     "text": [
      "1.5999999999999996\n"
     ]
    }
   ],
   "source": [
    "F_acc = stats.uniform.cdf (Y, loc=-0.5, scale=10)\n",
    "\n",
    "F_emp = []\n",
    "for i in Y:\n",
    "    F_emp.append (np.sum(X_sample < i) / n)\n",
    "    \n",
    "delta = (n**0.5) * max ( [ abs(F_acc[i] - F_emp[i]) for i in range (len(Y)) ] )\n",
    "print (delta)"
   ]
  },
  {
   "cell_type": "markdown",
   "id": "7124d092-d7ab-47dc-b65b-916214f247e4",
   "metadata": {},
   "source": [
    "# б) Подсчет Хи2 и Колмогорова"
   ]
  },
  {
   "cell_type": "code",
   "execution_count": 16,
   "id": "b8d46208-a270-4fe7-941b-80c6dde80ecb",
   "metadata": {
    "tags": []
   },
   "outputs": [
    {
     "name": "stdout",
     "output_type": "stream",
     "text": [
      "[-inf, 0.5, 1.5, 2.5, 3.5, 4.5, 5.5, 6.5, 7.5, 8.5, inf]\n"
     ]
    }
   ],
   "source": [
    "limits = [-np.inf]\n",
    "for i in range (len(Y) - 1):\n",
    "    limits.append (i + 0.5)\n",
    "limits.append (np.inf)\n",
    "\n",
    "print (limits)"
   ]
  },
  {
   "cell_type": "code",
   "execution_count": 18,
   "id": "7947f656-1a8a-4cf4-be5f-5ac245a669e1",
   "metadata": {
    "tags": []
   },
   "outputs": [],
   "source": [
    "def normal_pdf (x, a, sigma):\n",
    "    return (1 / (sigma * np.sqrt(2 * np.pi))) * np.exp( -(x - a)**2 / (2 * sigma**2))\n",
    "\n",
    "# Нужно прикинуть, где могут находиться параметры a и sigma\n",
    "a = np.linspace (1, 10, 100)\n",
    "sigma = np.linspace (1, 10, 100)"
   ]
  },
  {
   "cell_type": "code",
   "execution_count": 25,
   "id": "1ac08223-995f-41bc-a714-b8cebb650cb8",
   "metadata": {
    "tags": []
   },
   "outputs": [],
   "source": [
    "L_max = 0\n",
    "a_norm = 0\n",
    "sigma_norm = 0\n",
    "\n",
    "for sigma_i in sigma:\n",
    "    for a_i in a:\n",
    "        L_i = 1\n",
    "        \n",
    "        for i in range (len(X)):\n",
    "            p_i = integrate.quad (normal_pdf, limits[i], limits[i + 1], args = (a_i, sigma_i))[0]\n",
    "            L_i *= p_i ** X[i]\n",
    "        \n",
    "        if L_i > L_max:\n",
    "            L_max = L_i\n",
    "            sigma_norm = sigma_i\n",
    "            a_norm = a_i"
   ]
  },
  {
   "cell_type": "code",
   "execution_count": 30,
   "id": "5772d2b7-20e2-4a74-b3c5-be786d244c6a",
   "metadata": {
    "tags": []
   },
   "outputs": [
    {
     "name": "stdout",
     "output_type": "stream",
     "text": [
      "Найденные параметры распределения: a - 4.818181818181818 sigma - 2.6363636363636367\n"
     ]
    }
   ],
   "source": [
    "print (\"Найденные параметры распределения: a -\", a_norm, \"sigma -\", sigma_norm)"
   ]
  },
  {
   "cell_type": "code",
   "execution_count": 34,
   "id": "b18bbcd2-dd7d-43a5-a226-4dba40fae0d3",
   "metadata": {
    "tags": []
   },
   "outputs": [
    {
     "name": "stdout",
     "output_type": "stream",
     "text": [
      "Вычисленная дельта - 9.837954716903855\n"
     ]
    }
   ],
   "source": [
    "delta = 0\n",
    "for i in range (len(X)):\n",
    "    pi = integrate.quad (normal_pdf, limits[i], limits[i + 1], args = (a_norm, sigma_norm))[0]\n",
    "    delta += (X[i] - n * pi)**2 / (n * pi)\n",
    "print (\"Вычисленная дельта -\", delta)"
   ]
  },
  {
   "cell_type": "code",
   "execution_count": 36,
   "id": "db7329fd-cec7-42cb-bebb-6508635a7abd",
   "metadata": {
    "tags": []
   },
   "outputs": [],
   "source": [
    "N = 50000\n",
    "delta_K = []\n",
    "\n",
    "for i in range (N):\n",
    "    sample_i = np.random.normal (a_norm, sigma_norm, n)\n",
    "    tmp = np.linspace (0, max(max(sample_i), 9), 100)\n",
    "    \n",
    "    F_emp_star = [np.sum(sample_i < j) / n for j in tmp]\n",
    "    F_emp = [np.sum(X_sample < j) / n for j in tmp]\n",
    "    \n",
    "    delta_i = (n ** 0.5) * max ([abs(F_emp_star[i] - F_emp[i]) for i in range (len(tmp))])\n",
    "    delta_K.append (delta_i)"
   ]
  },
  {
   "cell_type": "code",
   "execution_count": 38,
   "id": "5f1af4b8-496a-4b81-b304-2d6ebe82a780",
   "metadata": {
    "tags": []
   },
   "outputs": [
    {
     "name": "stdout",
     "output_type": "stream",
     "text": [
      "0.8626400707993842\n"
     ]
    }
   ],
   "source": [
    "delta_wave = (n ** 0.5) * np.max (abs([np.sum(X_sample < j) / n for j in Y] - stats.norm (a_norm, sigma_norm).cdf(Y)))\n",
    "print (delta_wave)"
   ]
  },
  {
   "cell_type": "code",
   "execution_count": 39,
   "id": "40709057-6463-4704-9165-466cc7f55dd6",
   "metadata": {
    "tags": []
   },
   "outputs": [
    {
     "name": "stdout",
     "output_type": "stream",
     "text": [
      "0.99316\n"
     ]
    }
   ],
   "source": [
    "delta_K_var = np.sort (delta_K)\n",
    "\n",
    "k = len (delta_K_var [delta_K_var < delta_wave])\n",
    "p_value = 1 - ((k - 1)/N)\n",
    "print (p_value)"
   ]
  },
  {
   "cell_type": "markdown",
   "id": "2d4e3c2c-8308-4f81-8b8f-e37a8d514725",
   "metadata": {},
   "source": [
    "# с) Хи2 метод моментов"
   ]
  },
  {
   "cell_type": "code",
   "execution_count": 41,
   "id": "85f11373-3dfd-4060-8e41-9199a1fc2d83",
   "metadata": {
    "tags": []
   },
   "outputs": [
    {
     "name": "stdout",
     "output_type": "stream",
     "text": [
      "4.77 2.505414137423193\n"
     ]
    }
   ],
   "source": [
    "a_mm = np.mean (X_sample)\n",
    "sigma_mm = np.std (X_sample)\n",
    "\n",
    "print (a_mm, sigma_mm)"
   ]
  },
  {
   "cell_type": "code",
   "execution_count": 45,
   "id": "1b382432-34e4-4123-8847-a25f8b044931",
   "metadata": {
    "tags": []
   },
   "outputs": [],
   "source": [
    "delta_mm = []\n",
    "N = 10000\n",
    "\n",
    "for i in range (N):\n",
    "    sample_i = np.random.normal (a_mm, sigma_mm, n)\n",
    "    mean_i = np.mean (sample_i)\n",
    "    sigma_i = np.std (sample_i)\n",
    "    \n",
    "    pi = []\n",
    "    mi = []\n",
    "    for j in range (len (X)):\n",
    "        pi.append (integrate.quad (normal_pdf, limits[j], limits[j + 1], args = (mean_i, sigma_i))[0])\n",
    "        mi.append (len (sample_i [(sample_i >= limits[j]) & (sample_i <= limits[j + 1])]))\n",
    "    delta_mm.append(sum ( ((mi[i] - n * pi[i]) ** 2) / (n * (pi[i])) for i in range (len(X))))"
   ]
  },
  {
   "cell_type": "code",
   "execution_count": 48,
   "id": "7ca499a5-551f-418f-ba70-29a3607ef1b8",
   "metadata": {
    "tags": []
   },
   "outputs": [
    {
     "name": "stdout",
     "output_type": "stream",
     "text": [
      "0.20930000000000004 Нет основания отвергнуть гипотезу\n"
     ]
    }
   ],
   "source": [
    "delta_mm_var = np.sort (delta_mm)\n",
    "p_value = 1 - ((len(delta_mm_var[delta_mm_var < delta]) - 1) / N)\n",
    "print (p_value, \"Нет основания отвергнуть гипотезу\")"
   ]
  },
  {
   "cell_type": "code",
   "execution_count": null,
   "id": "e20d3768-73fa-409e-a6c1-62a3b0bccc7b",
   "metadata": {},
   "outputs": [],
   "source": []
  }
 ],
 "metadata": {
  "kernelspec": {
   "display_name": "Python 3 (ipykernel)",
   "language": "python",
   "name": "python3"
  },
  "language_info": {
   "codemirror_mode": {
    "name": "ipython",
    "version": 3
   },
   "file_extension": ".py",
   "mimetype": "text/x-python",
   "name": "python",
   "nbconvert_exporter": "python",
   "pygments_lexer": "ipython3",
   "version": "3.11.2"
  }
 },
 "nbformat": 4,
 "nbformat_minor": 5
}
