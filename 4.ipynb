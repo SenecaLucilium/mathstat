{
 "cells": [
  {
   "cell_type": "code",
   "execution_count": 1,
   "id": "0ec40b7d-1b11-4392-abf5-4d089af8ae79",
   "metadata": {
    "tags": []
   },
   "outputs": [],
   "source": [
    "import matplotlib.pyplot as plt\n",
    "import numpy as np\n",
    "import random\n",
    "from scipy import stats"
   ]
  },
  {
   "cell_type": "code",
   "execution_count": 11,
   "id": "b3fbc358-c4e9-4e2c-916e-c8f1c4ba4fbb",
   "metadata": {
    "tags": []
   },
   "outputs": [],
   "source": [
    "N = 100\n",
    "tetta = 5\n",
    "\n",
    "Xn = stats.uniform.rvs (size=N) * tetta + tetta"
   ]
  },
  {
   "cell_type": "markdown",
   "id": "befc86dd-31c3-4774-a50b-b49785eef194",
   "metadata": {},
   "source": [
    "# Оценки"
   ]
  },
  {
   "cell_type": "code",
   "execution_count": 12,
   "id": "bbc6d484-1334-4e2e-9ad6-8fd7bc2db43c",
   "metadata": {
    "tags": []
   },
   "outputs": [],
   "source": [
    "def tetta1 (Xn):\n",
    "    return (2/3) * np.mean (Xn)\n",
    "\n",
    "def tetta2 (Xn):\n",
    "    N = len (Xn)\n",
    "    return (N + 1)/(2*N + 1) * max(Xn)\n",
    "\n",
    "def tetta3 (Xn):\n",
    "    N = len (Xn)\n",
    "    return (N + 1)/(5 * N + 4) * (2 * max(Xn) +  min(Xn))"
   ]
  },
  {
   "cell_type": "code",
   "execution_count": 13,
   "id": "737180dd-9a3f-415a-9057-3e5981fb4443",
   "metadata": {
    "tags": []
   },
   "outputs": [
    {
     "name": "stdout",
     "output_type": "stream",
     "text": [
      "Оценка Методом Моментов:  4.740560054673482\n",
      "Оценка Методом Максимального Правдоподобия:  4.930637500151751\n",
      "Оценка задания:  4.941497729553112\n"
     ]
    }
   ],
   "source": [
    "print (\"Оценка Методом Моментов: \", tetta1(Xn))\n",
    "print (\"Оценка Методом Максимального Правдоподобия: \", tetta2(Xn))\n",
    "print (\"Оценка задания: \", tetta3(Xn))"
   ]
  },
  {
   "cell_type": "markdown",
   "id": "03f8bdeb-8861-4768-8b74-063d059bc0f8",
   "metadata": {},
   "source": [
    "# Точный и ассимптотические доверительные интервалы"
   ]
  },
  {
   "cell_type": "code",
   "execution_count": 16,
   "id": "1e28fd4d-0fb5-47b2-9cb3-5227ff3580de",
   "metadata": {
    "tags": []
   },
   "outputs": [
    {
     "name": "stdout",
     "output_type": "stream",
     "text": [
      "Точный интервал:  4.906849478356278 4.9967105690748905\n",
      "Интервал ОММ:  2.601444123790814 6.87967598555615\n",
      "Интервал ОМП:  2.791521569269083 7.069753431034419\n"
     ]
    }
   ],
   "source": [
    "betta = 0.95\n",
    "\n",
    "a1 = np.mean (Xn)\n",
    "a2 = 0\n",
    "\n",
    "for xi in Xn:\n",
    "    a2 += xi * xi / (N - 1)\n",
    "\n",
    "accurate_left = max(Xn) / ( 1 + ((1 + betta) / 2)**(1 / N) )\n",
    "accurate_right = max(Xn) / ( 1 + ((1 - betta) / 2)**(1 / N) )\n",
    "\n",
    "asymptotic_OMM_left = (-1.96) * (2 / 3) * (a2 - a1 * a1)**0.5 + tetta1 (Xn)\n",
    "asymptotic_OMM_right = (1.96) * (2 / 3) * (a2 - a1 * a1)**0.5 + tetta1 (Xn)\n",
    "\n",
    "asymptotic_OMP_left = (-1.96) * (2 / 3) * (a2 - a1 * a1)**0.5 + tetta2 (Xn)\n",
    "asymptotic_OMP_right = (1.96) * (2 / 3) * (a2 - a1 * a1)**0.5 + tetta2 (Xn)\n",
    "\n",
    "print (\"Точный интервал: \", accurate_left, accurate_right)\n",
    "print (\"Интервал ОММ: \", asymptotic_OMM_left, asymptotic_OMM_right)\n",
    "print (\"Интервал ОМП: \", asymptotic_OMP_left, asymptotic_OMP_right)"
   ]
  },
  {
   "cell_type": "markdown",
   "id": "e96bfb15-330e-45e9-8e53-f93870c0b3cc",
   "metadata": {},
   "source": [
    "# Bootstrap интервал - параметрический"
   ]
  },
  {
   "cell_type": "code",
   "execution_count": 24,
   "id": "b4981f75-8f18-4dca-92c7-55c40f91086f",
   "metadata": {
    "tags": []
   },
   "outputs": [
    {
     "name": "stdout",
     "output_type": "stream",
     "text": [
      "ОММ:  4.558679986364804 4.9382084884773825\n",
      "ОМП:  4.930637500151751 5.041705564571991\n"
     ]
    }
   ],
   "source": [
    "Xn_star = np.zeros ((1000, N))\n",
    "delta_omm = np.zeros (1000)\n",
    "delta_omp = np.zeros (1000)\n",
    "\n",
    "for i in range (1000):\n",
    "    Xn_star [i] = np.random.choice (Xn, size = N)\n",
    "    \n",
    "    delta_omm [i] = tetta1 (Xn_star[i]) - tetta1 (Xn)\n",
    "    delta_omp [i] = tetta2 (Xn_star[i]) - tetta2 (Xn)\n",
    "\n",
    "delta_omm.sort()\n",
    "delta_omp.sort()\n",
    "k1 = 25\n",
    "k2 = 975\n",
    "print (\"ОММ: \", tetta1 (Xn) - delta_omm[k2], tetta1 (Xn) - delta_omm[k1])\n",
    "print (\"ОМП: \", tetta2 (Xn) - delta_omp[k2], tetta2 (Xn) - delta_omp[k1])"
   ]
  },
  {
   "cell_type": "markdown",
   "id": "001e2d76-dde0-4ec3-9216-2103635cae18",
   "metadata": {},
   "source": [
    "# Bootstrap интервал - непараметрический"
   ]
  },
  {
   "cell_type": "code",
   "execution_count": 25,
   "id": "f82f8901-58bb-414e-bb25-2c15ae567d95",
   "metadata": {
    "tags": []
   },
   "outputs": [
    {
     "name": "stdout",
     "output_type": "stream",
     "text": [
      "ОММ:  4.443063393400329 4.552197544125173\n",
      "ОМП:  4.7780767376911815 4.859091911272596\n"
     ]
    }
   ],
   "source": [
    "K = 50000\n",
    "tetta1_star = np.zeros (K)\n",
    "tetta2_star = np.zeros (K)\n",
    "\n",
    "for i in range (K):\n",
    "    Xn_star_1 = stats.uniform.rvs (size = N) * tetta1 (Xn) + tetta1 (Xn)\n",
    "    Xn_star_2 = stats.uniform.rvs (size = N) * tetta2 (Xn) + tetta2 (Xn)\n",
    "    \n",
    "    tetta1_star [i] = tetta1 (Xn_star_1)\n",
    "    tetta2_star [i] = tetta2 (Xn_star_2)\n",
    "\n",
    "tetta1_star.sort ()\n",
    "tetta2_star.sort ()\n",
    "\n",
    "print (\"ОММ: \", tetta1_star[k1], tetta1_star[k2])\n",
    "print (\"ОМП: \", tetta2_star[k1], tetta2_star[k2])"
   ]
  },
  {
   "cell_type": "code",
   "execution_count": null,
   "id": "c134a857-c0d1-4592-951b-8e00a5018c4e",
   "metadata": {},
   "outputs": [],
   "source": []
  }
 ],
 "metadata": {
  "kernelspec": {
   "display_name": "Python 3 (ipykernel)",
   "language": "python",
   "name": "python3"
  },
  "language_info": {
   "codemirror_mode": {
    "name": "ipython",
    "version": 3
   },
   "file_extension": ".py",
   "mimetype": "text/x-python",
   "name": "python",
   "nbconvert_exporter": "python",
   "pygments_lexer": "ipython3",
   "version": "3.11.2"
  }
 },
 "nbformat": 4,
 "nbformat_minor": 5
}
