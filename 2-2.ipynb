{
 "cells": [
  {
   "cell_type": "code",
   "execution_count": 1,
   "id": "2ab5d31a-43b9-4dd8-bf64-2cabeb83e213",
   "metadata": {
    "tags": []
   },
   "outputs": [],
   "source": [
    "import matplotlib.pyplot as plt\n",
    "import statsmodels.api as sm\n",
    "from scipy import stats\n",
    "import numpy as np"
   ]
  },
  {
   "cell_type": "code",
   "execution_count": 14,
   "id": "a6747e87-6230-45f0-8c0c-41bf3731792e",
   "metadata": {
    "tags": []
   },
   "outputs": [],
   "source": [
    "IgA = [\n",
    "    [83, 85],\n",
    "    [84, 85, 85, 86, 86, 87],\n",
    "    [86, 87, 87, 87, 88, 88, 88, 88, 88, 89, 90],\n",
    "    [89, 90, 90, 91],\n",
    "    [90, 92]]\n",
    "N = 25\n",
    "alpha = 0.05"
   ]
  },
  {
   "cell_type": "markdown",
   "id": "10cc9d7d-1ca8-4330-819f-85aff1f75073",
   "metadata": {},
   "source": [
    "### Вспомогательные функции"
   ]
  },
  {
   "cell_type": "code",
   "execution_count": 15,
   "id": "2da9d0f4-d3aa-4755-965e-ed459a97de6c",
   "metadata": {
    "tags": []
   },
   "outputs": [],
   "source": [
    "def getTSS (y):\n",
    "    return sum ([ (y_i - np.mean(y))**2 for y_i in y])\n",
    "\n",
    "def getRegression (psi, Y):\n",
    "    F = psi.T @ psi\n",
    "    F_inverse = np.linalg.inv (F)\n",
    "    \n",
    "    betta = (F_inverse @ psi.T) @ Y\n",
    "    \n",
    "    e = Y - (psi @ betta)\n",
    "    RSS = e.T @ e\n",
    "    TSS = getTSS (Y)\n",
    "    R = (TSS - RSS) / TSS\n",
    "    \n",
    "    return betta, RSS, TSS, R, e"
   ]
  },
  {
   "cell_type": "markdown",
   "id": "9943452a-e230-4f85-b9c6-1688a62cbff6",
   "metadata": {
    "tags": []
   },
   "source": [
    "### a) Определить влияние возраста на содержание иммуноглобулина в крови"
   ]
  },
  {
   "cell_type": "code",
   "execution_count": 16,
   "id": "f6723400-bff7-4fe5-bbfe-e88b33d98691",
   "metadata": {
    "tags": []
   },
   "outputs": [],
   "source": [
    "psi = np.zeros ((N, len (IgA)))\n",
    "etta = np.zeros (N)\n",
    "\n",
    "it = 0\n",
    "for i in range (len (IgA)):\n",
    "    for j in range (len (IgA[i])):\n",
    "        etta [it] = IgA [i][j]\n",
    "        psi [it][i] = 1\n",
    "        it += 1"
   ]
  },
  {
   "cell_type": "code",
   "execution_count": 18,
   "id": "b7679147-559a-41fe-8af1-e2618e52fbbf",
   "metadata": {
    "tags": []
   },
   "outputs": [
    {
     "name": "stdout",
     "output_type": "stream",
     "text": [
      "Коэффициенты регрессии: [84.         85.5        87.81818182 90.         91.        ]\n",
      "Для коэффициента 0 p-value = 0.0\n",
      "Значим.\n",
      "Для коэффициента 1 p-value = 0.0\n",
      "Значим.\n",
      "Для коэффициента 2 p-value = 0.0\n",
      "Значим.\n",
      "Для коэффициента 3 p-value = 0.0\n",
      "Значим.\n",
      "Для коэффициента 4 p-value = 0.0\n",
      "Значим.\n"
     ]
    }
   ],
   "source": [
    "F = psi.T @ psi\n",
    "F_inverse = np.linalg.inv (F)\n",
    "regression = getRegression (psi, etta)\n",
    "\n",
    "print (\"Коэффициенты регрессии:\", regression [0])\n",
    "\n",
    "RSS = regression [1]\n",
    "\n",
    "for i in range (5):\n",
    "    delta_up = regression[0][i] * np.sqrt (N - 5)\n",
    "    delta_down = np.sqrt (RSS * F_inverse[i][i])\n",
    "    \n",
    "    delta = delta_up / delta_down\n",
    "    \n",
    "    p_value = 2 * (1 - stats.t.cdf (np.abs(delta), N - 5))\n",
    "    print (\"Для коэффициента {i} p-value = {p_value}\".format (i = i, p_value = p_value))\n",
    "    if (p_value > alpha):\n",
    "        print (\"Не значим.\")\n",
    "    else:\n",
    "        print (\"Значим.\")"
   ]
  },
  {
   "cell_type": "code",
   "execution_count": 20,
   "id": "2b4e0384-aa93-43e0-8e35-7b7aee10731a",
   "metadata": {
    "tags": []
   },
   "outputs": [
    {
     "name": "stdout",
     "output_type": "stream",
     "text": [
      "Коэффициент детерминации: 0.8106060606060606\n",
      "p-value коэффициента детерминации: 5.407435041959729e-07\n",
      "Регрессия значима.\n"
     ]
    }
   ],
   "source": [
    "R = regression [3]\n",
    "print (\"Коэффициент детерминации:\", R)\n",
    "\n",
    "delta = (R / (1 - R)) * (N - 5) / 4\n",
    "p_value = 1 - stats.f.cdf (np.abs (delta), 4, N - 5)\n",
    "\n",
    "print (\"p-value коэффициента детерминации:\", p_value)\n",
    "\n",
    "if (p_value > alpha):\n",
    "    print (\"Регрессия не значима.\")\n",
    "else:\n",
    "    print (\"Регрессия значима.\")"
   ]
  },
  {
   "cell_type": "markdown",
   "id": "262cf104-244d-4474-988a-ed36a54b59ad",
   "metadata": {
    "tags": []
   },
   "source": [
    "### b) Провести попарное сравнение средних"
   ]
  },
  {
   "cell_type": "code",
   "execution_count": 34,
   "id": "11bc0ec2-8424-487e-b7ca-6c57b1c35a2d",
   "metadata": {
    "tags": []
   },
   "outputs": [
    {
     "name": "stdout",
     "output_type": "stream",
     "text": [
      "Сравнение 0 и 1 - p-value = 0.10310040890082384\n",
      "Не похожи.\n",
      "Сравнение 0 и 2 - p-value = 0.0001662014487755492\n",
      "Похожи.\n",
      "Сравнение 0 и 3 - p-value = 2.782111500732043e-06\n",
      "Похожи.\n",
      "Сравнение 0 и 4 - p-value = 2.4125702768884594e-06\n",
      "Похожи.\n",
      "Сравнение 1 и 2 - p-value = 0.00039504010033408754\n",
      "Похожи.\n",
      "Сравнение 1 и 3 - p-value = 2.5534724907849693e-06\n",
      "Похожи.\n",
      "Сравнение 1 и 4 - p-value = 4.085183105129175e-06\n",
      "Похожи.\n",
      "Сравнение 2 и 3 - p-value = 0.0023933387043622023\n",
      "Похожи.\n",
      "Сравнение 2 и 4 - p-value = 0.0010025629060046448\n",
      "Похожи.\n",
      "Сравнение 3 и 4 - p-value = 0.29579135227474707\n",
      "Не похожи.\n"
     ]
    }
   ],
   "source": [
    "betta = regression [0]\n",
    "p_value_pairs = np.zeros (int (len (IgA) * (len (IgA) - 1) / 2))\n",
    "k = 0\n",
    "\n",
    "for i in range (len (IgA)):\n",
    "    for j in range (i + 1, len (IgA)):\n",
    "        \n",
    "        delta_up = (betta[i] - betta[j]) * np.sqrt (N - len(IgA))\n",
    "        delta_down = np.sqrt (RSS * (F_inverse[i][i] + F_inverse[j][j]))\n",
    "        \n",
    "        delta = delta_up / delta_down\n",
    "        p_value = 2 * (1 - stats.t.cdf (np.abs (delta), N - len (IgA)))\n",
    "\n",
    "        p_value_pairs [k] = p_value\n",
    "        k += 1\n",
    "        \n",
    "        print (\"Сравнение {i} и {j} - p-value = {p_value}\".format (i=i, j=j, p_value=p_value))\n",
    "        \n",
    "        if (p_value > alpha):\n",
    "            print (\"Не похожи.\")\n",
    "        else:\n",
    "            print (\"Похожи.\")"
   ]
  },
  {
   "cell_type": "code",
   "execution_count": 37,
   "id": "65fd972c-d43e-4808-8a73-f12bee5f2c82",
   "metadata": {
    "tags": []
   },
   "outputs": [
    {
     "name": "stdout",
     "output_type": "stream",
     "text": [
      "0-4, 1-3, 0-3, 1-4, 0-2, 1-2, 2-4, 2-3, 0-1, 3-4\n",
      "Похожи.\n",
      "Похожи.\n",
      "Похожи.\n",
      "Похожи.\n",
      "Похожи.\n",
      "Похожи.\n",
      "Похожи.\n",
      "Похожи.\n",
      "Не похожи.\n",
      "Не похожи.\n"
     ]
    }
   ],
   "source": [
    "p_value_pairs.sort()\n",
    "print (\"0-4, 1-3, 0-3, 1-4, 0-2, 1-2, 2-4, 2-3, 0-1, 3-4\")\n",
    "k = 10\n",
    "for i in range (10):\n",
    "    if (p_value_pairs[i] / k > alpha):\n",
    "        print (\"Не похожи.\")\n",
    "    else:\n",
    "        print (\"Похожи.\")\n",
    "    k -= 1"
   ]
  },
  {
   "cell_type": "code",
   "execution_count": null,
   "id": "f247f6f3-b51e-42c0-b9d9-2027d5f300a3",
   "metadata": {},
   "outputs": [],
   "source": []
  }
 ],
 "metadata": {
  "kernelspec": {
   "display_name": "Python 3 (ipykernel)",
   "language": "python",
   "name": "python3"
  },
  "language_info": {
   "codemirror_mode": {
    "name": "ipython",
    "version": 3
   },
   "file_extension": ".py",
   "mimetype": "text/x-python",
   "name": "python",
   "nbconvert_exporter": "python",
   "pygments_lexer": "ipython3",
   "version": "3.11.2"
  }
 },
 "nbformat": 4,
 "nbformat_minor": 5
}
