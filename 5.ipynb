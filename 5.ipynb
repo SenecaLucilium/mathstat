{
 "cells": [
  {
   "cell_type": "code",
   "execution_count": 8,
   "id": "fef6c6b5-8528-490c-b590-ed4e980f5e83",
   "metadata": {
    "tags": []
   },
   "outputs": [],
   "source": [
    "import matplotlib.pyplot as plt\n",
    "import numpy as np\n",
    "import random\n",
    "from scipy import stats"
   ]
  },
  {
   "cell_type": "code",
   "execution_count": 48,
   "id": "48702eff-dacf-4c6b-91db-3e3a407ae902",
   "metadata": {
    "tags": []
   },
   "outputs": [],
   "source": [
    "N = 100\n",
    "tetta = 5\n",
    "\n",
    "Xn = stats.pareto (b = tetta).rvs (N)"
   ]
  },
  {
   "cell_type": "markdown",
   "id": "781752b2-d15c-4ae9-922a-49c4bfeace36",
   "metadata": {},
   "source": [
    "# Оценки"
   ]
  },
  {
   "cell_type": "code",
   "execution_count": 49,
   "id": "ce78a60b-88ae-4b0e-adaa-7c59b8e7ff70",
   "metadata": {
    "tags": []
   },
   "outputs": [],
   "source": [
    "def tettaOMP (Xn):\n",
    "    ln_sum = 0\n",
    "    for xi in Xn:\n",
    "        ln_sum += np.log (xi)\n",
    "    return 1 + (len(Xn) / ln_sum)\n",
    "\n",
    "def tettaBayes (Xn):\n",
    "    ln_sum = 0\n",
    "    for xi in Xn:\n",
    "        ln_sum += np.log (xi)\n",
    "    return 1 + (len(Xn) / (1 + ln_sum))"
   ]
  },
  {
   "cell_type": "markdown",
   "id": "445c02d4-6c3f-4fba-a1c2-2bac313559cd",
   "metadata": {
    "tags": []
   },
   "source": [
    "# Доверительные интервалы"
   ]
  },
  {
   "cell_type": "code",
   "execution_count": 50,
   "id": "f4e055a2-6573-42c8-8e85-685b6f1cbda5",
   "metadata": {
    "tags": []
   },
   "outputs": [
    {
     "name": "stdout",
     "output_type": "stream",
     "text": [
      "Доверительный интервал для медианы:  1.1055492957754811 1.119594772524113\n"
     ]
    }
   ],
   "source": [
    "betta = 0.95\n",
    "\n",
    "median_left = (2 ** (1 / (tettaOMP(Xn) - 1))) * (1 - (np.log (2) * np.quantile (Xn, (1 + betta) / 2)) / (np.sqrt(N) * (tettaOMP(Xn) - 1)))\n",
    "median_right = (2 ** (1 / (tettaOMP(Xn) - 1))) * (1 - (np.log (2) * np.quantile (Xn, (1 - betta) / 2)) / (np.sqrt(N) * (tettaOMP(Xn) - 1)))\n",
    "\n",
    "print (\"Доверительный интервал для медианы: \", median_left, median_right)"
   ]
  },
  {
   "cell_type": "code",
   "execution_count": 51,
   "id": "99949eaa-d96a-4e31-baef-d9fa5cc0a611",
   "metadata": {
    "tags": []
   },
   "outputs": [
    {
     "name": "stdout",
     "output_type": "stream",
     "text": [
      "Доверительный интервал для ОМП:  5.21740904814896 5.859422412756218\n"
     ]
    }
   ],
   "source": [
    "omp_left = tettaOMP (Xn) - ((tettaOMP (Xn)) / np.sqrt(N)) * np.quantile (Xn, (1 + betta) / 2)\n",
    "omp_right = tettaOMP (Xn) - ((tettaOMP (Xn)) / np.sqrt(N)) * np.quantile (Xn, (1 - betta) / 2)\n",
    "\n",
    "print (\"Доверительный интервал для ОМП: \", omp_left, omp_right)"
   ]
  },
  {
   "cell_type": "markdown",
   "id": "10e641a6-012e-490c-9c5c-7221b615d2eb",
   "metadata": {},
   "source": [
    "# Bootstrap"
   ]
  },
  {
   "cell_type": "code",
   "execution_count": 53,
   "id": "9537dccb-2929-4938-a72a-aa37f4de58a9",
   "metadata": {
    "tags": []
   },
   "outputs": [
    {
     "name": "stdout",
     "output_type": "stream",
     "text": [
      "Непараметрический:  5.391032037283033 7.372618074019682\n"
     ]
    }
   ],
   "source": [
    "delta = np.zeros (1000)\n",
    "\n",
    "for i in range (1000):\n",
    "    Xn_star = np.random.choice (Xn, size = N)\n",
    "    delta_i = tettaOMP (Xn_star) - tettaOMP (Xn)\n",
    "    delta [i] = delta_i\n",
    "delta.sort ()\n",
    "\n",
    "k1 = 25\n",
    "k2 = 975\n",
    "print (\"Непараметрический: \", tettaOMP (Xn) - delta[k2], tettaOMP (Xn) - delta[k1])"
   ]
  },
  {
   "cell_type": "code",
   "execution_count": 58,
   "id": "ba1802b6-dfc0-417d-8254-ad6f69456496",
   "metadata": {
    "tags": []
   },
   "outputs": [
    {
     "name": "stdout",
     "output_type": "stream",
     "text": [
      "Параметрический:  5.145363137092377 7.142684674453608\n"
     ]
    }
   ],
   "source": [
    "K = 20000\n",
    "delta = np.zeros (K)\n",
    "tettaOMP_XN = tettaOMP (Xn)\n",
    "\n",
    "for i in range (K):\n",
    "    Xn_star = stats.pareto(b = tetta).rvs (N)\n",
    "    delta_i = tettaOMP (Xn_star) - tettaOMP_XN\n",
    "    delta [i] = delta_i\n",
    "delta.sort ()\n",
    "\n",
    "param_left = tettaOMP (Xn) + delta[int((1 - betta) / 2 * K)]\n",
    "param_right = tettaOMP (Xn) + delta[int((1 + betta) / 2 * K)]\n",
    "print (\"Параметрический: \", param_left, param_right)"
   ]
  },
  {
   "cell_type": "code",
   "execution_count": null,
   "id": "342b3652-ae6c-41f4-82fd-85ad419319f8",
   "metadata": {},
   "outputs": [],
   "source": []
  }
 ],
 "metadata": {
  "kernelspec": {
   "display_name": "Python 3 (ipykernel)",
   "language": "python",
   "name": "python3"
  },
  "language_info": {
   "codemirror_mode": {
    "name": "ipython",
    "version": 3
   },
   "file_extension": ".py",
   "mimetype": "text/x-python",
   "name": "python",
   "nbconvert_exporter": "python",
   "pygments_lexer": "ipython3",
   "version": "3.11.2"
  }
 },
 "nbformat": 4,
 "nbformat_minor": 5
}
